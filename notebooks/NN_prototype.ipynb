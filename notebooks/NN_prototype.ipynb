{
 "cells": [
  {
   "cell_type": "code",
   "execution_count": 1,
   "metadata": {
    "collapsed": false
   },
   "outputs": [
    {
     "name": "stderr",
     "output_type": "stream",
     "text": [
      "Using TensorFlow backend.\n"
     ]
    }
   ],
   "source": [
    "import sys\n",
    "sys.path.append('../')\n",
    "\n",
    "import numpy\n",
    "import pandas\n",
    "from keras.models import Sequential\n",
    "from keras.layers import Dense, Dropout, Activation\n",
    "from keras.layers import Convolution2D, MaxPooling2D, Flatten, Dense\n",
    "from keras.layers import Conv1D, GlobalMaxPooling1D\n",
    "from keras.wrappers.scikit_learn import KerasClassifier\n",
    "from keras.utils import np_utils\n",
    "from sklearn.model_selection import cross_val_score\n",
    "from sklearn.model_selection import KFold\n",
    "from sklearn.preprocessing import LabelEncoder\n",
    "from sklearn.pipeline import Pipeline\n",
    "from utility.file_utility import FileUtility\n",
    "import numpy as np\n",
    "from sklearn.model_selection import StratifiedKFold\n",
    "from sklearn.metrics import f1_score, precision_score, recall_score\n",
    "from gensim.models.wrappers import FastText\n",
    "import itertools\n",
    "import os"
   ]
  },
  {
   "cell_type": "code",
   "execution_count": null,
   "metadata": {
    "collapsed": true
   },
   "outputs": [],
   "source": [
    "\n",
    "\n",
    "\n",
    "class DNNMutliclass16S(object):\n",
    "    \n",
    "    def __init__(self, X,Y, model_arch=[500]):\n",
    "        # rep. X\n",
    "        self.X=X\n",
    "        # encoding Y\n",
    "        self.Y=Y\n",
    "        self.C=len(set(Y))\n",
    "        encoder = LabelEncoder()\n",
    "        encoder.fit(Y)\n",
    "        self.encoded_Y = encoder.transform(Y)\n",
    "        self.onehot_y = np_utils.to_categorical(encoded_Y)\n",
    "        # model's arch\n",
    "        self.model_arch=model_arch\n",
    "    \n",
    "    def get_MLP_model(self):\n",
    "        # creating the model\n",
    "        model = Sequential()\n",
    "        for layer_idx, h_layer_size in self.model_arch:\n",
    "            if layer_idx==0:\n",
    "                model.add(Dense(h_layer_size, input_dim=self.X.shape[1], activation='relu'))\n",
    "            else:\n",
    "                if h_layer_size < 1:\n",
    "                    model.add(Dropout(h_layer_size))\n",
    "                else:\n",
    "                    model.add(Dense(h_layer_size, activation='relu'))\n",
    "        model.add(Dense(self.C, activation='softmax'))        \n",
    "        # Compile model\n",
    "        model.compile(loss='categorical_crossentropy', optimizer='adam', metrics=['accuracy'])\n",
    "        return model\n",
    "    \n",
    "    def cross_validation(self, result_filename, n_fold=5, epochs=50, batch_size=100, model_strct='mlp'):\n",
    "\n",
    "        skf = StratifiedKFold(n_splits=n_fold, shuffle=True)\n",
    "\n",
    "        p_micro=[]\n",
    "        p_macro=[]\n",
    "        r_micro=[]\n",
    "        r_macro=[]\n",
    "        f1_micro=[]\n",
    "        f1_macro=[]\n",
    "\n",
    "        for train_index, valid_index in skf.split(X, Y):\n",
    "            print ('\\n Evaluation on a new fold is now get started ..')\n",
    "            X_train=X[train_index,:]\n",
    "            y_train=onehot_y[train_index,:]\n",
    "            y_class_train=encoded_Y[train_index]\n",
    "            X_valid=X[valid_index,:]\n",
    "            y_valid=onehot_y[valid_index,:]\n",
    "            y_class_valid=encoded_Y[valid_index]\n",
    "            \n",
    "            if model_strct=='mlp'\n",
    "                model=self.get_MLP_model()\n",
    "            \n",
    "            # fitting\n",
    "            history = model.fit(X_train, y_train, epochs=epochs, batch_size=batch_size,shuffle=True, validation_data=(X_valid, y_valid), verbose=0)\n",
    "            pred=model.predict_classes(X_valid)\n",
    "            # score-calculations\n",
    "            f1_micro.append(f1_score(pred, y_class_valid, average='micro'))\n",
    "            f1_macro.append(f1_score(pred, y_class_valid, average='macro'))\n",
    "            p_micro.append(precision_score(pred, y_class_valid, average='micro'))\n",
    "            p_macro.append(precision_score(pred, y_class_valid, average='macro'))\n",
    "            r_micro.append(recall_score(pred, y_class_valid, average='micro'))\n",
    "            r_macro.append(recall_score(pred, y_class_valid, average='macro'))\n",
    "\n",
    "        # mean values\n",
    "        f1mac=np.mean(f1_macro)\n",
    "        f1mic=np.mean(f1_micro)\n",
    "        prmac=np.mean(p_macro)\n",
    "        prmic=np.mean(p_micro)\n",
    "        remac=np.mean(r_macro)\n",
    "        remic=np.mean(r_micro)\n",
    "        # std values\n",
    "        sf1mac=np.std(f1_macro)\n",
    "        sf1mic=np.std(f1_micro)\n",
    "        sprmac=np.std(p_macro)\n",
    "        sprmic=np.std(p_micro)\n",
    "        sremac=np.std(r_macro)\n",
    "        sremic=np.std(r_micro)\n",
    "        # table\n",
    "        latex_line=' & '.join([str(np.round(x,2))+' $\\\\pm$ '+str(np.round(y,2)) for x,y in [[prmic, sprmic], [remic, sremic], [f1mic, sf1mic], [prmac, sprmac], [remac, sremac], [f1mac, sf1mac] ]])      \n",
    "        \n",
    "        FileUtility.save_obj('_'.join([filename, model_strct,'-'.join([str(x) for x in self.model_arch]), str(f1mac)]), [latex_line, p_micro, r_micro, f1_micro, p_macro, r_macro, f1_macro, history])\n",
    "        \n",
    "        FileUtility.save_obj('_'.join([filename, 'layers', model_strct,'-'.join([str(x) for x in self.model_arch]), str(f1mac)]), model.layers)\n",
    "        \n"
   ]
  },
  {
   "cell_type": "code",
   "execution_count": null,
   "metadata": {
    "collapsed": true
   },
   "outputs": [],
   "source": [
    "'../../datasets/results/eco/classifier/nn'"
   ]
  }
 ],
 "metadata": {
  "kernelspec": {
   "display_name": "Python 3",
   "language": "python",
   "name": "python3"
  },
  "language_info": {
   "codemirror_mode": {
    "name": "ipython",
    "version": 3
   },
   "file_extension": ".py",
   "mimetype": "text/x-python",
   "name": "python",
   "nbconvert_exporter": "python",
   "pygments_lexer": "ipython3",
   "version": "3.4.6"
  }
 },
 "nbformat": 4,
 "nbformat_minor": 2
}
