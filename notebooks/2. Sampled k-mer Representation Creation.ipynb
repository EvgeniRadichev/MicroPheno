{
 "cells": [
  {
   "cell_type": "markdown",
   "metadata": {},
   "source": [
    "# Creating k-mer representations"
   ]
  },
  {
   "cell_type": "code",
   "execution_count": 20,
   "metadata": {
    "collapsed": false
   },
   "outputs": [],
   "source": [
    "import sys\n",
    "sys.path.append('../')\n",
    "from make_representations.representation_maker import Metagenomic16SRepresentation, FastaRepresentations\n",
    "from utility.file_utility import FileUtility\n"
   ]
  },
  {
   "cell_type": "markdown",
   "metadata": {},
   "source": [
    "## Example of Crohn's disease - parallel representation creation -- with sub-sampling"
   ]
  },
  {
   "cell_type": "code",
   "execution_count": 2,
   "metadata": {
    "collapsed": true
   },
   "outputs": [],
   "source": [
    "\n",
    "# Readng the sequences from directory\n",
    "fasta_files, mapping = FileUtility.read_fasta_directory('/mounts/data/proj/asgari/dissertation/datasets/deepbio/microbiome/crohn/','fastq')\n"
   ]
  },
  {
   "cell_type": "code",
   "execution_count": null,
   "metadata": {
    "collapsed": false
   },
   "outputs": [],
   "source": [
    "\n",
    "# dictionary of k-mers and their sampling values\n",
    "# -1 means using all sequences\n",
    "sampling_dict={3:[20],4:[100],5:[500],6:[100,1000,2000,5000,10000,-1],7:[5000],8:[8000]}\n",
    "\n",
    "# number of cores\n",
    "nump_p=20\n",
    "\n",
    "for k in sampling_dict.keys():\n",
    "    for N in sampling_dict[k]:\n",
    "        print(k,'-mers with sampling size ',N)\n",
    "        RS=Metagenomic16SRepresentation(fasta_files, mapping, N, nump_p)\n",
    "        # path to save the generated files\n",
    "        RS.generate_kmers_all(k, save='../../MicroPheno_datasets/crohns-disease/dataset_'+str(k)+'-mers_rate_complete1359_seq_'+str(N))\n",
    "        "
   ]
  },
  {
   "cell_type": "markdown",
   "metadata": {
    "deletable": true,
    "editable": true
   },
   "source": [
    "## Example of Ecological/Organismal Environments -- without sub-sampling"
   ]
  },
  {
   "cell_type": "markdown",
   "metadata": {},
   "source": [
    "## ECO_18K"
   ]
  },
  {
   "cell_type": "code",
   "execution_count": 29,
   "metadata": {
    "collapsed": true
   },
   "outputs": [],
   "source": [
    "#map_type=FileUtility.load_obj('../../datasets/processed_data/eco/map_label_type.pickle')\n",
    "#eco=['soil', 'marine','bioreactor','freshwater','groundwater','sediment','bioreactor_sludge','food_fermentation','compost','rhizosphere','food','hydrocarbon','marine_sediment','activated_sludge','aquatic','hot_springs','freshwater_sediment','ant_fungus_garden']\n",
    "#orgs=['human_gut','bovine_gut','mouse_gut','chicken_gut','termite_gut']\n",
    "#corpus_eco_18K, labels_eco_18K=FastaRep.get_samples(eco,1000)\n",
    "#corpus_eco_180K, labels_eco_180K=FastaRep.get_samples(eco,10000)\n",
    "#corpus_5guts, labels_5guts=FastaRep.get_samples(orgs,620)\n",
    "#FileUtility.create_fasta_file('../../MicroPheno_datasets/ECO/ECO_18K.fasta', corpus_eco_18K, labels_eco_18K)\n",
    "#FileUtility.create_fasta_file('../../MicroPheno_datasets/ECO/ECO_180K.fasta', corpus_eco_180K, labels_eco_180K)\n",
    "#FileUtility.create_fasta_file('../../MicroPheno_datasets/5GUTs/fiveGuts.fasta', corpus_5guts, labels_5guts)\n",
    "FastaRep=FastaRepresentations('../../MicroPheno_datasets/ECO/ECO_18K.fasta',label_modifying_func=lambda x:x.split('.')[1] )\n",
    "# FastaRep.labels ==> labels\n",
    "# FastaRep.corpus ==> sequence corpus"
   ]
  },
  {
   "cell_type": "code",
   "execution_count": 21,
   "metadata": {
    "collapsed": false
   },
   "outputs": [
    {
     "name": "stdout",
     "output_type": "stream",
     "text": [
      "3 -mer creation\n",
      "4 -mer creation\n",
      "5 -mer creation\n",
      "6 -mer creation\n",
      "7 -mer creation\n",
      "8 -mer creation\n"
     ]
    }
   ],
   "source": [
    "for k in [3,4,5,6,7,8]:\n",
    "    print (k,'-mer creation')\n",
    "    vec_pres=FastaRep.get_vector_rep(FastaRep.corpus, k,restricted=True)\n",
    "    FileUtility.save_sparse_csr('../../MicroPheno_datasets/ECO/ECO_18K_k-mer_representations_labels/'+str(k)+'-mer'+'_eco18k_restrictedmer.npz', vec_pres)\n",
    "    FileUtility.save_list('../../MicroPheno_datasets/ECO/ECO_18K_k-mer_representations_labels/ECO_18K_labels.txt',FastaRep.labels)"
   ]
  },
  {
   "cell_type": "markdown",
   "metadata": {
    "deletable": true,
    "editable": true
   },
   "source": [
    "## ECO_180K"
   ]
  },
  {
   "cell_type": "code",
   "execution_count": 22,
   "metadata": {
    "collapsed": true
   },
   "outputs": [],
   "source": [
    "\n",
    "FastaRep=FastaRepresentations('../../MicroPheno_datasets/ECO/ECO_180K.fasta',label_modifying_func=lambda x:x.split('.')[1] )\n",
    "# FastaRep.labels ==> labels\n",
    "# FastaRep.corpus ==> sequence corpus"
   ]
  },
  {
   "cell_type": "code",
   "execution_count": 23,
   "metadata": {
    "collapsed": false,
    "deletable": true,
    "editable": true
   },
   "outputs": [
    {
     "name": "stdout",
     "output_type": "stream",
     "text": [
      "3 -mer creation\n",
      "4 -mer creation\n",
      "5 -mer creation\n",
      "6 -mer creation\n",
      "7 -mer creation\n",
      "8 -mer creation\n"
     ]
    }
   ],
   "source": [
    "for k in [3,4,5,6,7,8]:\n",
    "    print (k,'-mer creation')\n",
    "    vec_pres=FastaRep.get_vector_rep(FastaRep.corpus, k,restricted=True)\n",
    "    FileUtility.save_sparse_csr('../../MicroPheno_datasets/ECO/ECO_180K_k-mer_representations_labels/'+str(k)+'-mer'+'_eco180k_restrictedmer.npz', vec_pres)\n",
    "    FileUtility.save_list('../../MicroPheno_datasets/ECO/ECO_180K_k-mer_representations_labels/ECO_180K_labels.txt',FastaRep.labels)"
   ]
  },
  {
   "cell_type": "markdown",
   "metadata": {
    "deletable": true,
    "editable": true
   },
   "source": [
    "## 5Guts"
   ]
  },
  {
   "cell_type": "code",
   "execution_count": 25,
   "metadata": {
    "collapsed": false
   },
   "outputs": [],
   "source": [
    "FastaRep=FastaRepresentations('../../MicroPheno_datasets/5GUTs/fiveGuts.fasta',label_modifying_func=lambda x:x.split('.')[1] )\n"
   ]
  },
  {
   "cell_type": "code",
   "execution_count": 28,
   "metadata": {
    "collapsed": false,
    "deletable": true,
    "editable": true
   },
   "outputs": [
    {
     "name": "stdout",
     "output_type": "stream",
     "text": [
      "3 -mer creation\n",
      "4 -mer creation\n",
      "5 -mer creation\n",
      "6 -mer creation\n",
      "7 -mer creation\n",
      "8 -mer creation\n"
     ]
    }
   ],
   "source": [
    "for k in [3,4,5,6,7,8]:\n",
    "    print (k,'-mer creation')\n",
    "    vec_pres=FastaRep.get_vector_rep(FastaRep.corpus, k,restricted=True)\n",
    "    FileUtility.save_sparse_csr('../../MicroPheno_datasets/5GUTs/k-mer_representations_labels/'+str(k)+'-mer'+'_5Guts_restrictedmer.npz', vec_pres)\n",
    "    FileUtility.save_list('../../MicroPheno_datasets/5GUTs/k-mer_representations_labels/5Guts_labels.txt',FastaRep.labels)"
   ]
  }
 ],
 "metadata": {
  "kernelspec": {
   "display_name": "Python 3",
   "language": "python",
   "name": "python3"
  },
  "language_info": {
   "codemirror_mode": {
    "name": "ipython",
    "version": 3
   },
   "file_extension": ".py",
   "mimetype": "text/x-python",
   "name": "python",
   "nbconvert_exporter": "python",
   "pygments_lexer": "ipython3",
   "version": "3.4.6"
  }
 },
 "nbformat": 4,
 "nbformat_minor": 2
}
