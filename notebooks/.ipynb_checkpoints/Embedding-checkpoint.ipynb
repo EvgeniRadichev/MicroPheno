{
 "cells": [
  {
   "cell_type": "code",
   "execution_count": 6,
   "metadata": {
    "collapsed": true
   },
   "outputs": [],
   "source": [
    "from gensim.models.wrappers import FastText\n",
    "from sklearn.feature_extraction.text import TfidfVectorizer\n",
    "import itertools\n",
    "import numpy as np\n",
    "import sys\n",
    "sys.path.append('../')\n",
    "from utility.file_utility import FileUtility"
   ]
  },
  {
   "cell_type": "code",
   "execution_count": 2,
   "metadata": {
    "collapsed": true
   },
   "outputs": [],
   "source": [
    "fastext_16s_model = FastText.load_fasttext_format('/mounts/data/proj/asgari/dissertation/datasets/deepbio/representations/microbial/16s_rRNA/16srRNA_6mer_1000_fasttext_model')"
   ]
  },
  {
   "cell_type": "code",
   "execution_count": 3,
   "metadata": {
    "collapsed": false
   },
   "outputs": [],
   "source": [
    "vocab = [''.join(xs) for xs in itertools.product('atcg', repeat=6)]\n",
    "vocab.sort()\n",
    "\n",
    "wv_mat=[]\n",
    "for x in vocab:\n",
    "    if x in fastext_16s_model:\n",
    "        wv_mat.append(fastext_16s_model[x])\n",
    "    else:\n",
    "        wv_mat.append([0]*1000)\n",
    "wv_mat=np.array(wv_mat)"
   ]
  },
  {
   "cell_type": "code",
   "execution_count": 7,
   "metadata": {
    "collapsed": false
   },
   "outputs": [],
   "source": [
    "X=FileUtility.load_sparse_csr('../../datasets/bodysite/6-mers_rate_5000.npz')\n",
    "Y=FileUtility.load_list('../../datasets/bodysite/data_config/labels_phen.txt')"
   ]
  },
  {
   "cell_type": "code",
   "execution_count": 10,
   "metadata": {
    "collapsed": false
   },
   "outputs": [],
   "source": [
    "X_new=X.dot(wv_mat)"
   ]
  },
  {
   "cell_type": "code",
   "execution_count": 13,
   "metadata": {
    "collapsed": true
   },
   "outputs": [],
   "source": [
    "from classifier.random_forest import RFClassifier\n"
   ]
  },
  {
   "cell_type": "code",
   "execution_count": 14,
   "metadata": {
    "collapsed": false
   },
   "outputs": [],
   "source": [
    "MRF = RFClassifier(X_new, Y)\n",
    "MRF.tune_and_eval('RF_WV')"
   ]
  },
  {
   "cell_type": "code",
   "execution_count": 15,
   "metadata": {
    "collapsed": true
   },
   "outputs": [],
   "source": [
    "np.savetxt('../../datasets/bodysite/6-mers_wv', X_new)\n"
   ]
  },
  {
   "cell_type": "code",
   "execution_count": null,
   "metadata": {
    "collapsed": true
   },
   "outputs": [],
   "source": []
  }
 ],
 "metadata": {
  "kernelspec": {
   "display_name": "Python 3",
   "language": "python",
   "name": "python3"
  },
  "language_info": {
   "codemirror_mode": {
    "name": "ipython",
    "version": 3
   },
   "file_extension": ".py",
   "mimetype": "text/x-python",
   "name": "python",
   "nbconvert_exporter": "python",
   "pygments_lexer": "ipython3",
   "version": "3.4.6"
  }
 },
 "nbformat": 4,
 "nbformat_minor": 2
}
