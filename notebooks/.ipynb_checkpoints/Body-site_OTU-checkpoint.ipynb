{
 "cells": [
  {
   "cell_type": "code",
   "execution_count": 54,
   "metadata": {
    "collapsed": true,
    "deletable": true,
    "editable": true
   },
   "outputs": [],
   "source": [
    "import sys\n",
    "from Bio import SeqIO\n",
    "sys.path.append('../')"
   ]
  },
  {
   "cell_type": "code",
   "execution_count": 55,
   "metadata": {
    "collapsed": true,
    "deletable": true,
    "editable": true
   },
   "outputs": [],
   "source": [
    "import sys\n",
    "sys.path.append('../')\n",
    "from utility.file_utility import FileUtility\n",
    "from biom import example_table\n",
    "from biom import load_table\n",
    "import numpy as np\n",
    "from scipy import sparse"
   ]
  },
  {
   "cell_type": "code",
   "execution_count": 56,
   "metadata": {
    "collapsed": true,
    "deletable": true,
    "editable": true
   },
   "outputs": [],
   "source": [
    "files=FileUtility.recursive_glob('/mounts/data/proj/asgari/github_repos/microbiomephenotype/data_config/bodysites/','*.txt')\n",
    "list_of_files=[]\n",
    "for file in files:\n",
    "    list_of_files+=FileUtility.load_list(file)\n",
    "list_of_files=[x+'.fsa' for x in list_of_files]\n",
    "fasta_files, mapping = FileUtility.read_fasta_directory('/mounts/data/proj/asgari/dissertation/datasets/deepbio/microbiome/hmb_data/','fsa',only_files=list_of_files)\n"
   ]
  },
  {
   "cell_type": "code",
   "execution_count": 119,
   "metadata": {
    "collapsed": true
   },
   "outputs": [],
   "source": [
    "labels=FileUtility.load_list('../../datasets/bodysite/data_config/labels_phen.txt')"
   ]
  },
  {
   "cell_type": "code",
   "execution_count": 120,
   "metadata": {
    "collapsed": true
   },
   "outputs": [],
   "source": [
    "bodysite_IDS=[]\n",
    "for i, file_name in enumerate(fasta_files):\n",
    "    bodysite_IDS.append(file_name.split('/')[-1].split('.')[0])"
   ]
  },
  {
   "cell_type": "code",
   "execution_count": 121,
   "metadata": {
    "collapsed": true,
    "deletable": true,
    "editable": true
   },
   "outputs": [],
   "source": [
    "table = load_table('/mounts/data/proj/asgari/dissertation/datasets/deepbio/microbiome/hmb_otu/all.biom') \n",
    "X_otu=table.matrix_data\n",
    "OTU_ID_Mapping={x.split('.')[1]:idx for idx,x in enumerate(list(table.ids()))}"
   ]
  },
  {
   "cell_type": "code",
   "execution_count": 137,
   "metadata": {
    "collapsed": false
   },
   "outputs": [],
   "source": [
    "X=[]\n",
    "L=[]\n",
    "no=[]\n",
    "for i,idx in enumerate(bodysite_IDS):\n",
    "    if idx in OTU_ID_Mapping:\n",
    "        X.append(X_otu[:,OTU_ID_Mapping[idx]].T.toarray()[0])\n",
    "        L.append(labels[i])\n",
    "    else:\n",
    "        no.append(idx)"
   ]
  },
  {
   "cell_type": "code",
   "execution_count": 138,
   "metadata": {
    "collapsed": false
   },
   "outputs": [
    {
     "data": {
      "text/plain": [
       "array([ 0.,  0.,  0., ...,  0.,  0.,  0.])"
      ]
     },
     "execution_count": 138,
     "metadata": {},
     "output_type": "execute_result"
    }
   ],
   "source": [
    "X[0]"
   ]
  },
  {
   "cell_type": "code",
   "execution_count": 139,
   "metadata": {
    "collapsed": false
   },
   "outputs": [],
   "source": [
    "X=np.array(X)"
   ]
  },
  {
   "cell_type": "code",
   "execution_count": 140,
   "metadata": {
    "collapsed": false
   },
   "outputs": [
    {
     "data": {
      "text/plain": [
       "(1122, 20589)"
      ]
     },
     "execution_count": 140,
     "metadata": {},
     "output_type": "execute_result"
    }
   ],
   "source": [
    "X.shape"
   ]
  },
  {
   "cell_type": "code",
   "execution_count": 127,
   "metadata": {
    "collapsed": false
   },
   "outputs": [],
   "source": [
    "FileUtility.save_list('../../datasets/bodysite/otu_1122.txt',L)"
   ]
  },
  {
   "cell_type": "code",
   "execution_count": 141,
   "metadata": {
    "collapsed": false
   },
   "outputs": [],
   "source": [
    "from scipy import sparse\n",
    "\n",
    "X=sparse.csr_matrix(X)\n"
   ]
  },
  {
   "cell_type": "code",
   "execution_count": 143,
   "metadata": {
    "collapsed": false
   },
   "outputs": [],
   "source": [
    "FileUtility.save_sparse_csr('../../datasets/bodysite/otu_1122',X)"
   ]
  },
  {
   "cell_type": "code",
   "execution_count": 110,
   "metadata": {
    "collapsed": true
   },
   "outputs": [],
   "source": [
    "table = load_table('/mounts/data/proj/asgari/dissertation/datasets/deepbio/microbiome/hmb_otu/BIOM/3235/otu_table.biom') \n",
    "X_otu=table.matrix_data\n",
    "OTU_ID_Mapping={x.split('.')[1]:idx for idx,x in enumerate(list(table.ids()))}"
   ]
  },
  {
   "cell_type": "code",
   "execution_count": 111,
   "metadata": {
    "collapsed": false
   },
   "outputs": [
    {
     "name": "stdout",
     "output_type": "stream",
     "text": [
      "SRS014283\n",
      "SRS014337\n",
      "SRS014609\n",
      "SRS014776\n",
      "SRS014903\n",
      "SRS015009\n",
      "SRS015143\n",
      "SRS015510\n",
      "SRS015866\n",
      "SRS016058\n",
      "SRS016113\n",
      "SRS016315\n",
      "SRS018653\n",
      "SRS018655\n",
      "SRS018676\n",
      "SRS018696\n",
      "SRS018708\n",
      "SRS018710\n",
      "SRS018712\n",
      "SRS018838\n",
      "SRS018868\n",
      "SRS018870\n",
      "SRS018872\n",
      "SRS018890\n",
      "SRS018918\n",
      "SRS018920\n",
      "SRS018938\n",
      "SRS018968\n",
      "SRS019009\n",
      "SRS019288\n",
      "SRS019373\n",
      "SRS019377\n",
      "SRS019379\n",
      "SRS019381\n",
      "SRS019510\n",
      "SRS019512\n",
      "SRS019534\n",
      "SRS019683\n",
      "SRS020677\n",
      "SRS020847\n",
      "SRS021101\n",
      "SRS021211\n",
      "SRS021946\n",
      "SRS022834\n",
      "SRS023707\n",
      "SRS023827\n",
      "SRS042628\n",
      "SRS043680\n",
      "SRS044442\n",
      "SRS046552\n",
      "SRS047998\n",
      "SRS048716\n",
      "SRS048936\n",
      "SRS049070\n",
      "SRS049113\n",
      "SRS051102\n",
      "SRS052433\n",
      "SRS053351\n",
      "SRS053453\n",
      "SRS054998\n",
      "SRS055563\n",
      "SRS056259\n",
      "SRS056608\n",
      "SRS056620\n",
      "SRS058032\n",
      "SRS058788\n",
      "SRS062635\n",
      "SRS063815\n",
      "SRS064520\n",
      "SRS065570\n"
     ]
    }
   ],
   "source": [
    "for idx in no:\n",
    "    print(idx)"
   ]
  },
  {
   "cell_type": "code",
   "execution_count": 112,
   "metadata": {
    "collapsed": false
   },
   "outputs": [
    {
     "data": {
      "text/plain": [
       "(5830, 3285)"
      ]
     },
     "execution_count": 112,
     "metadata": {},
     "output_type": "execute_result"
    }
   ],
   "source": [
    "X_otu.shape"
   ]
  },
  {
   "cell_type": "code",
   "execution_count": null,
   "metadata": {
    "collapsed": true
   },
   "outputs": [],
   "source": []
  }
 ],
 "metadata": {
  "kernelspec": {
   "display_name": "Python 3",
   "language": "python",
   "name": "python3"
  },
  "language_info": {
   "codemirror_mode": {
    "name": "ipython",
    "version": 3
   },
   "file_extension": ".py",
   "mimetype": "text/x-python",
   "name": "python",
   "nbconvert_exporter": "python",
   "pygments_lexer": "ipython3",
   "version": "3.4.6"
  }
 },
 "nbformat": 4,
 "nbformat_minor": 2
}
