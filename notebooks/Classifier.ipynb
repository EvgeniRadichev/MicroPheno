{
 "cells": [
  {
   "cell_type": "code",
   "execution_count": 1,
   "metadata": {
    "collapsed": true,
    "deletable": true,
    "editable": true
   },
   "outputs": [],
   "source": [
    "import sys\n",
    "sys.path.append('../')"
   ]
  },
  {
   "cell_type": "code",
   "execution_count": 2,
   "metadata": {
    "collapsed": false,
    "deletable": true,
    "editable": true
   },
   "outputs": [],
   "source": [
    "from classifier.random_forest import RFClassifier\n",
    "from utility.file_utility import FileUtility"
   ]
  },
  {
   "cell_type": "code",
   "execution_count": 5,
   "metadata": {
    "collapsed": false,
    "deletable": true,
    "editable": true
   },
   "outputs": [],
   "source": [
    "def try_all_representation(path):\n",
    "    for x in FileUtility.recursive_glob(path, '*.npz'):\n",
    "        print('tuning and validation of ', x)\n",
    "        X_data = FileUtility.load_sparse_csr(x)\n",
    "        for idx, y_file in enumerate(FileUtility.recursive_glob(path+ '/data_config/', 'labels_phen.tx*')):\n",
    "            Y = FileUtility.load_list(y_file)\n",
    "            MRF = RFClassifier(X_data, Y)\n",
    "            f=x.split('/')[-1].replace('datasets', 'results').split('.')[0] + '_labels_' + y_file.split('/')[-1]\n",
    "            MRF.tune_and_eval(f)"
   ]
  },
  {
   "cell_type": "code",
   "execution_count": 6,
   "metadata": {
    "collapsed": false,
    "deletable": true,
    "editable": true
   },
   "outputs": [
    {
     "name": "stdout",
     "output_type": "stream",
     "text": [
      "tuning and validation of  ../../datasets/bodysite/6-mers_rate_5000.npz\n",
      "tuning and validation of  ../../datasets/bodysite/6-mers_rate_10000.npz\n",
      "tuning and validation of  ../../datasets/bodysite/6-mers_rate_1000.npz\n",
      "tuning and validation of  ../../datasets/bodysite/6-mers_rate_-1.npz\n",
      "tuning and validation of  ../../datasets/bodysite/6-mers_rate_100.npz\n"
     ]
    }
   ],
   "source": [
    "try_all_representation('../../datasets/bodysite/')"
   ]
  },
  {
   "cell_type": "code",
   "execution_count": 7,
   "metadata": {
    "collapsed": true,
    "deletable": true,
    "editable": true
   },
   "outputs": [],
   "source": [
    "X=FileUtility.load_sparse_csr('../../datasets/bodysite/6-mers_rate_-1.npz')\n",
    "Y=FileUtility.load_list('../../datasets/bodysite/data_config/labels_phen.txt')"
   ]
  },
  {
   "cell_type": "code",
   "execution_count": 8,
   "metadata": {
    "collapsed": true,
    "deletable": true,
    "editable": true
   },
   "outputs": [],
   "source": []
  },
  {
   "cell_type": "code",
   "execution_count": 9,
   "metadata": {
    "collapsed": false,
    "deletable": true,
    "editable": true
   },
   "outputs": [],
   "source": [
    "RF=RFClassifier(X,Y)\n",
    "RF.tune_and_eval('check')"
   ]
  },
  {
   "cell_type": "code",
   "execution_count": 11,
   "metadata": {
    "collapsed": false,
    "deletable": true,
    "editable": true
   },
   "outputs": [],
   "source": [
    "from sklearn.model_selection import cross_val_predict\n",
    "\n"
   ]
  },
  {
   "cell_type": "code",
   "execution_count": 13,
   "metadata": {
    "collapsed": false,
    "deletable": true,
    "editable": true
   },
   "outputs": [],
   "source": [
    "from sklearn.metrics import confusion_matrix\n",
    "conf=confusion_matrix(Y,y_predicted)"
   ]
  },
  {
   "cell_type": "code",
   "execution_count": 14,
   "metadata": {
    "collapsed": false,
    "deletable": true,
    "editable": true
   },
   "outputs": [
    {
     "data": {
      "text/plain": [
       "array([[286,   2,   2,   4,   1],\n",
       "       [  1,  86,   0,   1,  48],\n",
       "       [  3,   0, 296,   0,   0],\n",
       "       [  1,   0,   0, 324,   0],\n",
       "       [  2,  48,   0,   0,  87]])"
      ]
     },
     "execution_count": 14,
     "metadata": {},
     "output_type": "execute_result"
    }
   ],
   "source": [
    "conf"
   ]
  },
  {
   "cell_type": "code",
   "execution_count": null,
   "metadata": {
    "collapsed": true,
    "deletable": true,
    "editable": true
   },
   "outputs": [],
   "source": []
  }
 ],
 "metadata": {
  "kernelspec": {
   "display_name": "Python 3",
   "language": "python",
   "name": "python3"
  },
  "language_info": {
   "codemirror_mode": {
    "name": "ipython",
    "version": 3
   },
   "file_extension": ".py",
   "mimetype": "text/x-python",
   "name": "python",
   "nbconvert_exporter": "python",
   "pygments_lexer": "ipython3",
   "version": "3.4.6"
  }
 },
 "nbformat": 4,
 "nbformat_minor": 2
}
