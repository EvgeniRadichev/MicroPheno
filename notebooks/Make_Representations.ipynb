{
 "cells": [
  {
   "cell_type": "code",
   "execution_count": 2,
   "metadata": {
    "collapsed": false,
    "deletable": true,
    "editable": true
   },
   "outputs": [],
   "source": [
    "import sys\n",
    "sys.path.append('../')\n",
    "from make_representations.representation_maker import Metagenomic16SRepresentation\n",
    "from utility.file_utility import FileUtility"
   ]
  },
  {
   "cell_type": "markdown",
   "metadata": {
    "deletable": true,
    "editable": true
   },
   "source": [
    "# Bodysites"
   ]
  },
  {
   "cell_type": "code",
   "execution_count": 3,
   "metadata": {
    "collapsed": false,
    "deletable": true,
    "editable": true
   },
   "outputs": [
    {
     "name": "stdout",
     "output_type": "stream",
     "text": [
      "/mounts/data/proj/asgari/github_repos/microbiomephenotype/data_config/bodysites/stool.txt\n",
      "/mounts/data/proj/asgari/github_repos/microbiomephenotype/data_config/bodysites/vagina.txt\n",
      "/mounts/data/proj/asgari/github_repos/microbiomephenotype/data_config/bodysites/nose.txt\n",
      "/mounts/data/proj/asgari/github_repos/microbiomephenotype/data_config/bodysites/posterior.txt\n",
      "/mounts/data/proj/asgari/github_repos/microbiomephenotype/data_config/bodysites/saliva.txt\n"
     ]
    }
   ],
   "source": [
    "files=FileUtility.recursive_glob('/mounts/data/proj/asgari/github_repos/microbiomephenotype/data_config/bodysites/','*.txt')\n",
    "list_of_files=[]\n",
    "for file in files:\n",
    "    print (file)\n",
    "    list_of_files+=FileUtility.load_list(file)\n",
    "list_of_files=[x+'.fsa' for x in list_of_files]\n",
    "\n",
    "fasta_files, mapping = FileUtility.read_fasta_directory('/mounts/data/proj/asgari/dissertation/datasets/deepbio/microbiome/hmb_data/','fsa',only_files=list_of_files)"
   ]
  },
  {
   "cell_type": "code",
   "execution_count": 14,
   "metadata": {
    "collapsed": false
   },
   "outputs": [
    {
     "data": {
      "text/plain": [
       "0.22321684006624"
      ]
     },
     "execution_count": 14,
     "metadata": {},
     "output_type": "execute_result"
    }
   ],
   "source": [
    "len(list_of_files)* 0.00018726244972"
   ]
  },
  {
   "cell_type": "code",
   "execution_count": null,
   "metadata": {
    "collapsed": false,
    "deletable": true,
    "editable": true,
    "scrolled": true
   },
   "outputs": [],
   "source": [
    "sampling_dict={6:[100,1000,5000,10000,-1]}\n",
    "for k in range(6,7):\n",
    "    for s in sampling_dict[k]:\n",
    "        print(k)\n",
    "        RS=Metagenomic16SRepresentation(fasta_files, mapping, s, 20)\n",
    "        RS.generate_kmers_all(k, save='../../datasets/bodysite/'+str(k)+'-mers_rate_'+str(s))"
   ]
  },
  {
   "cell_type": "code",
   "execution_count": null,
   "metadata": {
    "collapsed": true,
    "deletable": true,
    "editable": true
   },
   "outputs": [],
   "source": [
    "RS=Metagenomic16SRepresentation(fasta_files, mapping, 10000, 20)\n",
    "RS.generate_cpe_all(10000, save='datasets/bodysites/cpeself_10000_rate_10000', directory='datasets/bodysites/data_config/')\n"
   ]
  },
  {
   "cell_type": "code",
   "execution_count": null,
   "metadata": {
    "collapsed": true
   },
   "outputs": [],
   "source": []
  },
  {
   "cell_type": "code",
   "execution_count": 7,
   "metadata": {
    "collapsed": false
   },
   "outputs": [
    {
     "name": "stdout",
     "output_type": "stream",
     "text": [
      "6\n"
     ]
    },
    {
     "name": "stderr",
     "output_type": "stream",
     "text": [
      "\n",
      "  0%|          | 0/20 [00:00<?, ?it/s]\u001b[A\n",
      "  5%|▌         | 1/20 [00:03<00:59,  3.12s/it]\u001b[A\n",
      " 10%|█         | 2/20 [00:04<00:45,  2.53s/it]\u001b[A\n",
      " 15%|█▌        | 3/20 [00:04<00:30,  1.82s/it]\u001b[A\n",
      " 20%|██        | 4/20 [00:04<00:21,  1.33s/it]\u001b[A\n",
      " 25%|██▌       | 5/20 [00:05<00:16,  1.12s/it]\u001b[A\n",
      " 30%|███       | 6/20 [00:06<00:16,  1.18s/it]\u001b[A\n",
      " 35%|███▌      | 7/20 [00:06<00:11,  1.10it/s]\u001b[A\n",
      " 40%|████      | 8/20 [00:07<00:08,  1.45it/s]\u001b[A\n",
      " 45%|████▌     | 9/20 [00:07<00:07,  1.54it/s]\u001b[A\n",
      " 50%|█████     | 10/20 [00:07<00:04,  2.02it/s]\u001b[A\n",
      " 55%|█████▌    | 11/20 [00:08<00:06,  1.47it/s]\u001b[A\n",
      " 60%|██████    | 12/20 [00:09<00:04,  1.85it/s]\u001b[A\n",
      " 65%|██████▌   | 13/20 [00:09<00:03,  2.04it/s]\u001b[A\n",
      " 70%|███████   | 14/20 [00:09<00:02,  2.46it/s]\u001b[A\n",
      " 75%|███████▌  | 15/20 [00:10<00:02,  2.23it/s]\u001b[A\n",
      " 85%|████████▌ | 17/20 [00:10<00:01,  2.90it/s]\u001b[A\n",
      " 90%|█████████ | 18/20 [00:10<00:00,  3.17it/s]\u001b[A\n",
      "100%|██████████| 20/20 [00:10<00:00,  3.76it/s]"
     ]
    },
    {
     "name": "stdout",
     "output_type": "stream",
     "text": [
      "6\n"
     ]
    },
    {
     "name": "stderr",
     "output_type": "stream",
     "text": [
      "\u001b[A\n",
      "\u001b[A\n",
      "  0%|          | 0/20 [00:00<?, ?it/s]\u001b[A\n",
      "  5%|▌         | 1/20 [00:01<00:27,  1.43s/it]\u001b[A\n",
      " 10%|█         | 2/20 [00:01<00:18,  1.04s/it]\u001b[A\n",
      " 20%|██        | 4/20 [00:01<00:11,  1.34it/s]\u001b[A\n",
      " 30%|███       | 6/20 [00:02<00:08,  1.65it/s]\u001b[A\n",
      " 35%|███▌      | 7/20 [00:02<00:06,  2.00it/s]\u001b[A\n",
      " 45%|████▌     | 9/20 [00:02<00:04,  2.70it/s]\u001b[A\n",
      " 55%|█████▌    | 11/20 [00:02<00:02,  3.55it/s]\u001b[A\n",
      " 60%|██████    | 12/20 [00:02<00:01,  4.25it/s]\u001b[A\n",
      " 65%|██████▌   | 13/20 [00:03<00:01,  4.71it/s]\u001b[A\n",
      " 70%|███████   | 14/20 [00:03<00:01,  4.43it/s]\u001b[A\n",
      " 85%|████████▌ | 17/20 [00:03<00:00,  5.38it/s]\u001b[A\n",
      " 95%|█████████▌| 19/20 [00:03<00:00,  5.33it/s]\u001b[A\n",
      "100%|██████████| 20/20 [00:04<00:00,  5.08it/s]"
     ]
    },
    {
     "name": "stdout",
     "output_type": "stream",
     "text": [
      "6\n"
     ]
    },
    {
     "name": "stderr",
     "output_type": "stream",
     "text": [
      "\u001b[A\n",
      "\u001b[A\n",
      "  0%|          | 0/20 [00:00<?, ?it/s]\u001b[A\n",
      "  5%|▌         | 1/20 [00:03<01:02,  3.31s/it]\u001b[A\n",
      " 20%|██        | 4/20 [00:03<00:37,  2.36s/it]\u001b[A\n",
      " 30%|███       | 6/20 [00:04<00:24,  1.73s/it]\u001b[A\n",
      " 35%|███▌      | 7/20 [00:04<00:16,  1.27s/it]\u001b[A\n",
      " 45%|████▌     | 9/20 [00:04<00:09,  1.10it/s]\u001b[A\n",
      " 55%|█████▌    | 11/20 [00:05<00:06,  1.40it/s]\u001b[A\n",
      " 60%|██████    | 12/20 [00:05<00:04,  1.79it/s]\u001b[A\n",
      " 65%|██████▌   | 13/20 [00:05<00:03,  2.06it/s]\u001b[A\n",
      " 75%|███████▌  | 15/20 [00:05<00:01,  2.71it/s]\u001b[A\n",
      " 80%|████████  | 16/20 [00:06<00:01,  3.13it/s]\u001b[A\n",
      " 90%|█████████ | 18/20 [00:06<00:00,  4.00it/s]\u001b[A\n",
      " 95%|█████████▌| 19/20 [00:06<00:00,  3.54it/s]\u001b[A\n",
      "100%|██████████| 20/20 [00:06<00:00,  3.05it/s]"
     ]
    },
    {
     "name": "stdout",
     "output_type": "stream",
     "text": [
      "6\n"
     ]
    },
    {
     "name": "stderr",
     "output_type": "stream",
     "text": [
      "\u001b[A\n",
      "  0%|          | 0/20 [00:00<?, ?it/s]\u001b[A\n",
      "  5%|▌         | 1/20 [00:02<00:56,  2.98s/it]\u001b[A\n",
      " 10%|█         | 2/20 [00:03<00:40,  2.25s/it]\u001b[A\n",
      " 15%|█▌        | 3/20 [00:04<00:29,  1.72s/it]\u001b[A\n",
      " 20%|██        | 4/20 [00:04<00:22,  1.39s/it]\u001b[A\n",
      " 25%|██▌       | 5/20 [00:04<00:15,  1.06s/it]\u001b[A\n",
      " 30%|███       | 6/20 [00:05<00:11,  1.25it/s]\u001b[A\n",
      " 35%|███▌      | 7/20 [00:05<00:09,  1.43it/s]\u001b[A\n",
      " 55%|█████▌    | 11/20 [00:05<00:04,  2.00it/s]\u001b[A\n",
      " 65%|██████▌   | 13/20 [00:05<00:02,  2.58it/s]\u001b[A\n",
      " 75%|███████▌  | 15/20 [00:06<00:01,  3.07it/s]\u001b[A\n",
      " 85%|████████▌ | 17/20 [00:06<00:00,  3.83it/s]\u001b[A\n",
      " 90%|█████████ | 18/20 [00:06<00:00,  3.66it/s]\u001b[A\n",
      " 95%|█████████▌| 19/20 [00:07<00:00,  3.88it/s]\u001b[A\n",
      "100%|██████████| 20/20 [00:07<00:00,  3.11it/s]"
     ]
    },
    {
     "name": "stdout",
     "output_type": "stream",
     "text": [
      "6\n"
     ]
    },
    {
     "name": "stderr",
     "output_type": "stream",
     "text": [
      "\u001b[A\n",
      "\u001b[A\n",
      "  0%|          | 0/20 [00:00<?, ?it/s]\u001b[A\n",
      "  5%|▌         | 1/20 [00:03<01:10,  3.70s/it]\u001b[A\n",
      " 10%|█         | 2/20 [00:04<00:48,  2.69s/it]\u001b[A\n",
      " 15%|█▌        | 3/20 [00:04<00:33,  1.98s/it]\u001b[A\n",
      " 20%|██        | 4/20 [00:04<00:22,  1.43s/it]\u001b[A\n",
      " 25%|██▌       | 5/20 [00:06<00:23,  1.57s/it]\u001b[A\n",
      " 30%|███       | 6/20 [00:07<00:20,  1.46s/it]\u001b[A\n",
      " 40%|████      | 8/20 [00:08<00:13,  1.16s/it]\u001b[A\n",
      " 45%|████▌     | 9/20 [00:09<00:11,  1.02s/it]\u001b[A\n",
      " 50%|█████     | 10/20 [00:10<00:10,  1.07s/it]\u001b[A\n",
      " 55%|█████▌    | 11/20 [00:11<00:09,  1.03s/it]\u001b[A\n",
      " 60%|██████    | 12/20 [00:12<00:07,  1.05it/s]\u001b[A\n",
      " 65%|██████▌   | 13/20 [00:12<00:05,  1.28it/s]\u001b[A\n",
      " 70%|███████   | 14/20 [00:13<00:05,  1.10it/s]\u001b[A\n",
      " 75%|███████▌  | 15/20 [00:15<00:05,  1.03s/it]\u001b[A\n",
      " 80%|████████  | 16/20 [00:16<00:04,  1.14s/it]\u001b[A\n",
      " 85%|████████▌ | 17/20 [00:16<00:02,  1.13it/s]\u001b[A\n",
      " 90%|█████████ | 18/20 [00:17<00:01,  1.28it/s]\u001b[A\n",
      " 95%|█████████▌| 19/20 [00:17<00:00,  1.61it/s]\u001b[A\n",
      "100%|██████████| 20/20 [00:20<00:00,  1.22s/it]\u001b[A\n",
      "\u001b[A"
     ]
    }
   ],
   "source": [
    "fasta_files, mapping = FileUtility.read_fasta_directory('/mounts/data/proj/asgari/dissertation/datasets/deepbio/microbiome/dental/','fastq')\n",
    "sampling_dict={6:[100,1000,5000,10000,-1]}\n",
    "for k in range(6,7):\n",
    "    for s in sampling_dict[k]:\n",
    "        print(k)\n",
    "        RS=Metagenomic16SRepresentation(fasta_files, mapping, s, 20)\n",
    "        RS.generate_kmers_all(k, save='../../datasets/dental/'+str(k)+'-mers_rate_'+str(s))"
   ]
  },
  {
   "cell_type": "code",
   "execution_count": null,
   "metadata": {
    "collapsed": true
   },
   "outputs": [],
   "source": []
  }
 ],
 "metadata": {
  "kernelspec": {
   "display_name": "Python 3",
   "language": "python",
   "name": "python3"
  },
  "language_info": {
   "codemirror_mode": {
    "name": "ipython",
    "version": 3
   },
   "file_extension": ".py",
   "mimetype": "text/x-python",
   "name": "python",
   "nbconvert_exporter": "python",
   "pygments_lexer": "ipython3",
   "version": "3.4.6"
  }
 },
 "nbformat": 4,
 "nbformat_minor": 2
}
